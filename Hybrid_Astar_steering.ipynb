{
  "nbformat": 4,
  "nbformat_minor": 0,
  "metadata": {
    "colab": {
      "name": "Hybrid_Astar_Cart.ipynb",
      "version": "0.3.2",
      "views": {},
      "default_view": {},
      "provenance": []
    },
    "kernelspec": {
      "display_name": "Python 3",
      "language": "python",
      "name": "python3"
    }
  },
  "cells": [
    {
      "metadata": {
        "id": "zoiiLewN-xKI",
        "colab_type": "code",
        "colab": {
          "autoexec": {
            "startup": false,
            "wait_interval": 0
          }
        }
      },
      "cell_type": "code",
      "source": [
        "import numpy as np\n",
        "import math\n",
        "import matplotlib.pyplot as plt\n",
        "%matplotlib inline\n",
        "np.set_printoptions(threshold=np.nan)"
      ],
      "execution_count": 0,
      "outputs": []
    },
    {
      "metadata": {
        "id": "bcUxC24I-xKO",
        "colab_type": "code",
        "colab": {
          "autoexec": {
            "startup": false,
            "wait_interval": 0
          }
        }
      },
      "cell_type": "code",
      "source": [
        "SPEED = 1.4\n",
        "LENGTH = 1.5\n"
      ],
      "execution_count": 0,
      "outputs": []
    },
    {
      "metadata": {
        "id": "DNO49BUJ-xKV",
        "colab_type": "code",
        "colab": {
          "autoexec": {
            "startup": false,
            "wait_interval": 0
          }
        }
      },
      "cell_type": "code",
      "source": [
        "class link:\n",
        "    def __init__(self, inp_state, inp_index):\n",
        "        self.state = inp_state\n",
        "        self.index = inp_index\n",
        "        "
      ],
      "execution_count": 0,
      "outputs": []
    },
    {
      "metadata": {
        "id": "U8HAMIln-xKa",
        "colab_type": "code",
        "colab": {
          "autoexec": {
            "startup": false,
            "wait_interval": 0
          }
        }
      },
      "cell_type": "code",
      "source": [
        "def rad_to_deg(delta):\n",
        "    return delta * 180 / math.pi"
      ],
      "execution_count": 0,
      "outputs": []
    },
    {
      "metadata": {
        "id": "FNUiI-cP-xKc",
        "colab_type": "code",
        "colab": {
          "autoexec": {
            "startup": false,
            "wait_interval": 0
          }
        }
      },
      "cell_type": "code",
      "source": [
        "def deg_to_rad(delta):\n",
        "    return delta * math.pi/180"
      ],
      "execution_count": 0,
      "outputs": []
    },
    {
      "metadata": {
        "id": "ixSnSEHV-xKf",
        "colab_type": "code",
        "colab": {
          "autoexec": {
            "startup": false,
            "wait_interval": 0
          }
        }
      },
      "cell_type": "code",
      "source": [
        "class state:\n",
        "\n",
        "    def __init__(self, x, y, theta, g,f, steer):\n",
        "        self.x = x\n",
        "        self.y = y\n",
        "        self.theta = theta\n",
        "        self.g = g\n",
        "        self.f = f\n",
        "        self.steer = steer\n"
      ],
      "execution_count": 0,
      "outputs": []
    },
    {
      "metadata": {
        "id": "Zmro84Dd-xKi",
        "colab_type": "code",
        "colab": {
          "autoexec": {
            "startup": false,
            "wait_interval": 0
          }
        }
      },
      "cell_type": "code",
      "source": [
        "def normalize(theta):\n",
        "    if theta < 0:    \n",
        "        theta = theta + 2.0 * math.pi\n",
        "        return theta\n",
        "    if theta > 2*np.pi:    \n",
        "        theta = theta - 2.0 * math.pi\n",
        "        return theta\n",
        "    else:\n",
        "        return theta "
      ],
      "execution_count": 0,
      "outputs": []
    },
    {
      "metadata": {
        "id": "h0gNN1oN-xKk",
        "colab_type": "code",
        "colab": {
          "autoexec": {
            "startup": false,
            "wait_interval": 0
          }
        }
      },
      "cell_type": "code",
      "source": [
        "def heuristic(x,y,goal):\n",
        "    distance  = math.sqrt( ((x-goal.x)**2) + ((y-goal.y)**2) )\n",
        "    return distance"
      ],
      "execution_count": 0,
      "outputs": []
    },
    {
      "metadata": {
        "id": "35-nanbh-xKn",
        "colab_type": "code",
        "colab": {
          "autoexec": {
            "startup": false,
            "wait_interval": 0
          }
        }
      },
      "cell_type": "code",
      "source": [
        "def expand(v_state, goal):\n",
        "    next_states = []\n",
        "    for delta in range(-35, 40, 5): \n",
        "        # Create a trajectory with delta as the steering angle using the bicycle model:\n",
        "\n",
        "        # ---Begin bicycle model---\n",
        "        delta_rad = deg_to_rad(delta)\n",
        "        omega = SPEED/LENGTH * delta_rad\n",
        "        \n",
        "        d_x = SPEED * math.cos(v_state.theta)\n",
        "        d_y = SPEED * math.sin(v_state.theta)\n",
        "        next_x = v_state.x + d_x\n",
        "        next_y = v_state.y + d_y\n",
        "        next_theta = normalize(v_state.theta + (omega))\n",
        "        \n",
        "        # ---End bicycle model-----\n",
        "        next_g = v_state.g + np.sqrt( d_x * d_x +  d_y * d_y )\n",
        "        next_f = next_g + heuristic(next_x, next_y, goal)\n",
        "\n",
        "        # Create a new State object with all of the \"next\" values.\n",
        "        new_state = state(next_x, next_y, next_theta, next_g, next_f)\n",
        "        next_states.append(new_state)\n",
        "\n",
        "    return next_states"
      ],
      "execution_count": 0,
      "outputs": []
    },
    {
      "metadata": {
        "id": "iwOPXKuQ-xKq",
        "colab_type": "code",
        "colab": {
          "autoexec": {
            "startup": false,
            "wait_interval": 0
          }
        }
      },
      "cell_type": "code",
      "source": [
        "def transition(v_state, delta, dt, goal):\n",
        "   \n",
        "    # ---Begin bicycle model---\n",
        "    #delta_rad = deg_to_rad(delta)\n",
        "    omega = SPEED/LENGTH * math.tan(delta)\n",
        "    \n",
        "    \n",
        "    d_x = SPEED * math.cos(v_state.theta) * dt\n",
        "    d_y = SPEED * math.sin(v_state.theta) * dt\n",
        "    \n",
        "    next_x = v_state.x + d_x\n",
        "    next_y = v_state.y + d_y\n",
        "    next_theta = normalize(v_state.theta + (omega*dt)) \n",
        "\n",
        "    # ---End bicycle model-----\n",
        "    next_g = v_state.g + np.sqrt( d_x * d_x +  d_y * d_y )\n",
        "    next_f = next_g+heuristic(next_x, next_y, goal)\n",
        "    next_steer = delta\n",
        "\n",
        "    # Create a new State object with all of the \"next\" values.\n",
        "    new_state = state(next_x, next_y, next_theta, next_g, next_f, next_steer)\n",
        "\n",
        "    return new_state"
      ],
      "execution_count": 0,
      "outputs": []
    },
    {
      "metadata": {
        "id": "2Ys_hOF4-xKu",
        "colab_type": "code",
        "colab": {
          "autoexec": {
            "startup": false,
            "wait_interval": 0
          }
        }
      },
      "cell_type": "code",
      "source": [
        "w = np.array([[1, 0],[-1,0]])"
      ],
      "execution_count": 0,
      "outputs": []
    },
    {
      "metadata": {
        "id": "by0adPTu-xKw",
        "colab_type": "code",
        "colab": {
          "autoexec": {
            "startup": false,
            "wait_interval": 0
          }
        }
      },
      "cell_type": "code",
      "source": [
        "vehicle_points = np.array([[-1.1, 2],[0, 2],[1.1, 2],[-1.1, 0],[0, 0],[1.1,0],[-1.1, -2],[0, -2],[1.1, -2]])"
      ],
      "execution_count": 0,
      "outputs": []
    },
    {
      "metadata": {
        "id": "6onDZUC1-xKy",
        "colab_type": "code",
        "colab": {
          "autoexec": {
            "startup": false,
            "wait_interval": 0
          }
        }
      },
      "cell_type": "code",
      "source": [
        "def rotation(w,t):\n",
        "    y = np.array([[math.cos(t), math.sin(t)], [-math.sin(t), math.cos(t)]])\n",
        "    return np.matmul(w, y)\n",
        "    "
      ],
      "execution_count": 0,
      "outputs": []
    },
    {
      "metadata": {
        "id": "7cO9-bkb-xK2",
        "colab_type": "code",
        "colab": {
          "autoexec": {
            "startup": false,
            "wait_interval": 0
          }
        }
      },
      "cell_type": "code",
      "source": [
        "def transformation(w, x, y,t):\n",
        "    p = np.zeros_like(w)\n",
        "    for i in range(p.shape[0]):\n",
        "        p[i][0:2] = w[i][0:2]+[x,y]\n",
        "        \n",
        "    return rotation(p,(t-np.pi/2))\n",
        "    \n",
        "    "
      ],
      "execution_count": 0,
      "outputs": []
    },
    {
      "metadata": {
        "id": "BINIW2rE-xK6",
        "colab_type": "code",
        "colab": {
          "autoexec": {
            "startup": false,
            "wait_interval": 0
          }
        },
        "outputId": "c47ef3ab-90fc-428c-8206-1a37645007be"
      },
      "cell_type": "code",
      "source": [
        "transformation(vehicle_points, 1.0, 0.0, np.pi/2)"
      ],
      "execution_count": 0,
      "outputs": [
        {
          "output_type": "execute_result",
          "data": {
            "text/plain": [
              "array([[-0.1,  2. ],\n",
              "       [ 1. ,  2. ],\n",
              "       [ 2.1,  2. ],\n",
              "       [-0.1,  0. ],\n",
              "       [ 1. ,  0. ],\n",
              "       [ 2.1,  0. ],\n",
              "       [-0.1, -2. ],\n",
              "       [ 1. , -2. ],\n",
              "       [ 2.1, -2. ]])"
            ]
          },
          "metadata": {
            "tags": []
          },
          "execution_count": 1359
        }
      ]
    },
    {
      "metadata": {
        "id": "vx8pfmjx-xLB",
        "colab_type": "code",
        "colab": {
          "autoexec": {
            "startup": false,
            "wait_interval": 0
          }
        },
        "outputId": "831ef17b-ddb4-4cec-ca1b-0ebf7ae8219d"
      },
      "cell_type": "code",
      "source": [
        "print(rotation(vehicle_points, deg_to_rad(-90)))"
      ],
      "execution_count": 0,
      "outputs": [
        {
          "output_type": "stream",
          "text": [
            "[[  2.00000000e+00   1.10000000e+00]\n",
            " [  2.00000000e+00   1.22464680e-16]\n",
            " [  2.00000000e+00  -1.10000000e+00]\n",
            " [ -6.73555740e-17   1.10000000e+00]\n",
            " [  0.00000000e+00   0.00000000e+00]\n",
            " [  6.73555740e-17  -1.10000000e+00]\n",
            " [ -2.00000000e+00   1.10000000e+00]\n",
            " [ -2.00000000e+00  -1.22464680e-16]\n",
            " [ -2.00000000e+00  -1.10000000e+00]]\n"
          ],
          "name": "stdout"
        }
      ]
    },
    {
      "metadata": {
        "id": "lXNyDddk-xLF",
        "colab_type": "code",
        "colab": {
          "autoexec": {
            "startup": false,
            "wait_interval": 0
          }
        }
      },
      "cell_type": "code",
      "source": [
        "grid_x_m = 20\n",
        "grid_y_m = 20\n",
        "\n",
        "coll_cell_side = 1\n",
        "grid_coll_x = np.int( np.ceil(grid_x_m/coll_cell_side) )\n",
        "grid_coll_y = np.int( np.ceil(grid_y_m/coll_cell_side) )\n",
        "\n",
        "grid = np.zeros((grid_coll_x,grid_coll_y), np.int)"
      ],
      "execution_count": 0,
      "outputs": []
    },
    {
      "metadata": {
        "id": "MesmVwXI-xLQ",
        "colab_type": "code",
        "colab": {
          "autoexec": {
            "startup": false,
            "wait_interval": 0
          }
        }
      },
      "cell_type": "code",
      "source": [
        "cell_side = 1.0\n",
        "x_offset = (grid.shape[1]*coll_cell_side)/2\n",
        "y_offset = 0.0\n"
      ],
      "execution_count": 0,
      "outputs": []
    },
    {
      "metadata": {
        "id": "3BcNRYl6-xLT",
        "colab_type": "code",
        "colab": {
          "autoexec": {
            "startup": false,
            "wait_interval": 0
          }
        }
      },
      "cell_type": "code",
      "source": [
        "def get_grid_coordinates(x, y):\n",
        "    x = x+x_offset\n",
        "    y = y+y_offset\n",
        "    cell_x = math.floor(x/cell_side)\n",
        "    cell_y = math.floor(y/cell_side)\n",
        "    #grid[cell_y, cell_x] = 2\n",
        "    return cell_x, cell_y\n",
        "    "
      ],
      "execution_count": 0,
      "outputs": []
    },
    {
      "metadata": {
        "id": "dr6ORe10-xLW",
        "colab_type": "code",
        "colab": {
          "autoexec": {
            "startup": false,
            "wait_interval": 0
          }
        }
      },
      "cell_type": "code",
      "source": [
        "def check_occupancy(x, y):\n",
        "    x = x+x_offset\n",
        "    y = y+y_offset\n",
        "    cell_x = math.floor(x/coll_cell_side)\n",
        "    cell_y = math.floor(y/coll_cell_side)\n",
        "    #grid[cell_y, cell_x] = 2\n",
        "    return grid[cell_y, cell_x]\n",
        "    "
      ],
      "execution_count": 0,
      "outputs": []
    },
    {
      "metadata": {
        "id": "KXCIH3lf-xLY",
        "colab_type": "code",
        "colab": {
          "autoexec": {
            "startup": false,
            "wait_interval": 0
          }
        }
      },
      "cell_type": "code",
      "source": [
        "def delta_t(delta, n, off):\n",
        "    #delta = deg_to_rad(delta)#for convenient debugging\n",
        "    #off = deg_to_rad(off)#for convenient debugging\n",
        "    delta_list = []\n",
        "    delta_list.append(delta)\n",
        "    delta_calc = delta\n",
        "    for i in range(0 ,n):\n",
        "        delta_calc += off   \n",
        "        if delta_calc < max_angle:\n",
        "            delta_list.append(delta_calc)\n",
        "        \n",
        "    delta_calc = delta\n",
        "    for i in range(0 ,n):\n",
        "        delta_calc -= off\n",
        "        if min_angle < delta_calc:\n",
        "            delta_list.append(delta_calc)\n",
        "        \n",
        "    return delta_list"
      ],
      "execution_count": 0,
      "outputs": []
    },
    {
      "metadata": {
        "id": "BHkeuKJA-xLa",
        "colab_type": "code",
        "colab": {
          "autoexec": {
            "startup": false,
            "wait_interval": 0
          }
        }
      },
      "cell_type": "code",
      "source": [
        "def checkLimits( x,y ):\n",
        "    \n",
        "    result = True\n",
        "    \n",
        "    if  ( x < -grid_x_m/2 ) | \\\n",
        "        ( y < 0 ) | \\\n",
        "        ( x > grid_x_m/2 ) | \\\n",
        "        ( y > grid_y_m ):\n",
        "        \n",
        "        result = False\n",
        "    \n",
        "    return result"
      ],
      "execution_count": 0,
      "outputs": []
    },
    {
      "metadata": {
        "id": "CwFKSgKr-xLc",
        "colab_type": "code",
        "colab": {
          "autoexec": {
            "startup": false,
            "wait_interval": 0
          }
        }
      },
      "cell_type": "code",
      "source": [
        "max_angle = 0.785398\n",
        "min_angle = -0.785398"
      ],
      "execution_count": 0,
      "outputs": []
    },
    {
      "metadata": {
        "id": "m0c2XVGP-xLf",
        "colab_type": "code",
        "colab": {
          "autoexec": {
            "startup": false,
            "wait_interval": 0
          }
        }
      },
      "cell_type": "code",
      "source": [
        "def check_closed(x, y, theta):\n",
        "    x = x + x_state_offset\n",
        "    y = y + y_state_offset\n",
        "    \n",
        "    cell_x = math.floor(x/state_cell_side)\n",
        "    cell_y = math.floor(y/state_cell_side)\n",
        "    \n",
        "    cell_theta = math.floor( theta * NUM_THETA_CELLS / (2.0 * np.pi) )\n",
        "    return closed[cell_theta][cell_y][cell_x]\n",
        "    "
      ],
      "execution_count": 0,
      "outputs": []
    },
    {
      "metadata": {
        "id": "j8HGdIoE-xLk",
        "colab_type": "code",
        "colab": {
          "autoexec": {
            "startup": false,
            "wait_interval": 0
          }
        }
      },
      "cell_type": "code",
      "source": [
        "def set_closed(x, y, theta):\n",
        "    x = x + x_state_offset\n",
        "    y = y + y_state_offset\n",
        "    \n",
        "    cell_x = math.floor(x/state_cell_side)\n",
        "    cell_y = math.floor(y/state_cell_side)\n",
        "    \n",
        "    cell_theta = math.floor( theta * NUM_THETA_CELLS / (2.0 * np.pi) )\n",
        "    closed[cell_theta][cell_y][cell_x] = 1\n"
      ],
      "execution_count": 0,
      "outputs": []
    },
    {
      "metadata": {
        "id": "8Ijklldj-xLp",
        "colab_type": "code",
        "colab": {
          "autoexec": {
            "startup": false,
            "wait_interval": 0
          }
        }
      },
      "cell_type": "code",
      "source": [
        "state_cell_side = 1\n",
        "grid_state_x = np.int( np.ceil(grid_x_m/state_cell_side) )\n",
        "grid_state_y = np.int( np.ceil(grid_y_m/state_cell_side) )\n",
        "\n",
        "NUM_THETA_CELLS = 360\n",
        "closed = [[[0 for x in range(grid_state_x)] for y in range(grid_state_y)] for cell in range(NUM_THETA_CELLS)]\n",
        "\n",
        "x_state_offset = grid_x_m/2.0\n",
        "y_state_offset = 0.0\n"
      ],
      "execution_count": 0,
      "outputs": []
    },
    {
      "metadata": {
        "id": "PRFm22oR-xLs",
        "colab_type": "code",
        "colab": {
          "autoexec": {
            "startup": false,
            "wait_interval": 0
          }
        }
      },
      "cell_type": "code",
      "source": [
        "current_state = state(0.0, 2.1, np.pi/2, 0.0, 0.0, 0.0)\n",
        "new_points = np.copy(vehicle_points)\n",
        "#print(new_points)\n",
        "\n",
        "Goal.x = 0.0\n",
        "Goal.y = 18.0\n",
        "    "
      ],
      "execution_count": 0,
      "outputs": []
    },
    {
      "metadata": {
        "id": "-yX3uSHt-xLu",
        "colab_type": "code",
        "colab": {
          "autoexec": {
            "startup": false,
            "wait_interval": 0
          }
        }
      },
      "cell_type": "code",
      "source": [
        "#print(current_state.x, current_state.y, current_state.theta)\n",
        "\n",
        "path_state = current_state\n",
        "open_list = []\n",
        "path_link = link( path_state, 0 )\n",
        "open_list.append( path_link )\n",
        "\n",
        "trace_list = []\n",
        "trace_link = link( path_state, -1 )\n",
        "trace_list.append( trace_link )\n",
        "\n",
        "\n",
        "path_x = []\n",
        "path_y = []\n",
        "\n",
        "path_x.append( current_state.x )\n",
        "path_y.append( current_state.y )\n",
        "\n",
        "\n"
      ],
      "execution_count": 0,
      "outputs": []
    },
    {
      "metadata": {
        "id": "LqCNJOUK-xLw",
        "colab_type": "code",
        "colab": {
          "autoexec": {
            "startup": false,
            "wait_interval": 0
          }
        },
        "outputId": "21810711-2321-4a55-c536-e81cd7ccd7fc"
      },
      "cell_type": "code",
      "source": [
        "goal_reached = 0\n",
        "\n",
        "for count in range(2):\n",
        "    while ( len(open_list) > 0 ) & (goal_reached == 0):\n",
        "\n",
        "        open_list.sort( key=lambda ste:ste.state.f )\n",
        "\n",
        "        path_link = open_list.pop(0)\n",
        "        path_state = path_link.state\n",
        "        path_index = path_link.index\n",
        "\n",
        "       # print( \"\" )\n",
        "        #print( \"Best path\")\n",
        "        #print( path_state.x, path_state.y, path_state.theta, path_state.f )\n",
        "        path_x.append( path_state.x )\n",
        "        path_y.append( path_state.y )\n",
        "\n",
        "\n",
        "        #exit = 0\n",
        "\n",
        "        #while exit == 0:\n",
        "\n",
        "        delta_angle = delta_t( path_state.steer, 5, deg_to_rad(5.0) )\n",
        "        delta_angle = [ 30 * np.pi / 180, 20 * np.pi / 180, 0, -20 * np.pi / 180, -30 * np.pi / 180 ]\n",
        "\n",
        "        #print( delta_angle )\n",
        "\n",
        "        state_list = []\n",
        "\n",
        "        for i in range(len(delta_angle)):\n",
        "            \n",
        "            new_state = transition( path_state, delta_angle[i], 0.1, Goal)\n",
        "            \n",
        "            #print( new_state.x, new_state.y, new_state.theta )\n",
        "            if check_closed( new_state.x, new_state.y, new_state.theta ) == 0:\n",
        "                if checkLimits( new_state.x , new_state.y ) == True:\n",
        "                    state_list.append(new_state)\n",
        "                    set_closed( new_state.x, new_state.y, new_state.theta )\n",
        "                    \n",
        "                    #print( new_state.x, new_state.y, new_state.steer )\n",
        "\n",
        "        collision_free = []\n",
        "\n",
        "        for i in range(len(state_list)):\n",
        "\n",
        "            check = 0\n",
        "            #new_points = transformation(vehicle_points, state_list[i].x, state_list[i].y, state_list[i].theta)\n",
        "            new_points = [ [ state_list[i].x, state_list[i].y ] ]\n",
        "            \n",
        "            for point in new_points :\n",
        "                if checkLimits(point[0],point[1]) == True:\n",
        "\n",
        "                    get_x, get_y = get_grid_coordinates(point[0], point[1])\n",
        "                    \n",
        "                    check = check_occupancy(point[0], point[1])\n",
        "                   \n",
        "                else :\n",
        "                    check =1\n",
        "\n",
        "                if check == 1:\n",
        "                \n",
        "                   break\n",
        "\n",
        "            if check == 0:\n",
        "                collision_free.append(state_list[i])\n",
        "                \n",
        "\n",
        "        if( collision_free ):\n",
        "\n",
        "            for nstate in collision_free:\n",
        "                \n",
        "                #print( nstate.x, nstate.y, nstate.theta )\n",
        "                new_link = link( nstate, len(trace_list) )\n",
        "                open_list.append( new_link )\n",
        "                \n",
        "                trace_link = link( nstate, path_index )\n",
        "                trace_list.append( trace_link )\n",
        "                          \n",
        "                \n",
        "                if np.sqrt((nstate.x - Goal.x)**2 + (nstate.y - Goal.y)**2) < 0.5:\n",
        "                    goal_reached = 1\n",
        "                    path_x.append( nstate.x )\n",
        "                    path_y.append( nstate.y )\n",
        "                    print( \"goal\")\n",
        "                    \n",
        "\n",
        "\n",
        "            #path_state = collision_free[0]\n",
        "\n",
        "            #if checkLimits( path_state ) == True:\n",
        "            #    path_x.append( path_state.x )\n",
        "            #    path_y.append( path_state.y )\n",
        "\n",
        "                #print( path_state.x, path_state.y )\n",
        "\n",
        "\n",
        "    #print( \"\" )\n",
        "    #print( \"Ostates\")\n",
        "    #for ostate in open_list:\n",
        "\n",
        "       # print( ostate.x, ostate.y, ostate.theta, ostate.f )\n",
        "\n",
        "plt.scatter( path_x, path_y )\n",
        "plt.axis('equal')\n",
        "plt.show()\n",
        "        \n",
        "    \n",
        "#print(current_state.x, current_state.y, current_state.theta)\n",
        "#print(new_points)\n",
        "#grid_v = np.copy(grid)\n",
        "\n",
        "#    if check == 1:\n",
        "#        break\n",
        "\n",
        "#if check == 0:\n",
        "#    print(grid_v)\n",
        "\n",
        "#print(grid_v)\n",
        "\n",
        "#plt.scatter(px,py)\n",
        "\n",
        "\n",
        "\n",
        "\n",
        "\n",
        "\n",
        "\n",
        "\n",
        "\n",
        "\n",
        "\n",
        "\n",
        "\n",
        "\n",
        "\n",
        "\n",
        "\n",
        "\n",
        "#plt.show()"
      ],
      "execution_count": 0,
      "outputs": [
        {
          "output_type": "stream",
          "text": [
            "goal\n"
          ],
          "name": "stdout"
        },
        {
          "output_type": "display_data",
          "data": {
            "image/png": "[encoded data removed]",
            "text/plain": [
              "<matplotlib.figure.Figure at 0x7f948023bb00>"
            ]
          },
          "metadata": {
            "tags": []
          }
        }
      ]
    },
    {
      "metadata": {
        "id": "7RNbTgOc-xLy",
        "colab_type": "code",
        "colab": {
          "autoexec": {
            "startup": false,
            "wait_interval": 0
          }
        },
        "outputId": "b852e233-7918-4d42-b2a1-0eb3be3b5029"
      },
      "cell_type": "code",
      "source": [
        "if goal_reached == 1 :\n",
        "        fpath_x = []\n",
        "        fpath_y = []\n",
        "        \n",
        "        curr_trace = trace_list[-1]\n",
        "        \n",
        "        while( curr_trace.index != -1 ):\n",
        "            fpath_x.append( curr_trace.state.x )\n",
        "            fpath_y.append( curr_trace.state.y )\n",
        "            \n",
        "            curr_trace = trace_list[ curr_trace.index ]\n",
        "            \n",
        "plt.scatter( fpath_x, fpath_y )\n",
        "plt.axis( 'equal' )\n",
        "plt.show()\n",
        "    "
      ],
      "execution_count": 0,
      "outputs": [
        {
          "output_type": "display_data",
          "data": {
            "image/png": "[encoded data removed]",
            "text/plain": [
              "<matplotlib.figure.Figure at 0x7f9480120a58>"
            ]
          },
          "metadata": {
            "tags": []
          }
        }
      ]
    },
    {
      "metadata": {
        "id": "edkJb5bw-xL4",
        "colab_type": "code",
        "colab": {
          "autoexec": {
            "startup": false,
            "wait_interval": 0
          }
        },
        "outputId": "eb684855-7b63-42d9-c541-4c74d3c2c2a7"
      },
      "cell_type": "code",
      "source": [
        "print( math.floor( 6.277231820095903 * NUM_THETA_CELLS / np.pi ) )\n"
      ],
      "execution_count": 0,
      "outputs": [
        {
          "output_type": "stream",
          "text": [
            "719\n"
          ],
          "name": "stdout"
        }
      ]
    },
    {
      "metadata": {
        "id": "NVCl8l6U-xL-",
        "colab_type": "code",
        "colab": {
          "autoexec": {
            "startup": false,
            "wait_interval": 0
          }
        },
        "outputId": "ae40f329-1f1f-4d81-b7ba-4e1fe1d8e091"
      },
      "cell_type": "code",
      "source": [
        "plt.scatter( path_x, path_y )\n",
        "plt.axis('equal')\n",
        "plt.show()"
      ],
      "execution_count": 0,
      "outputs": [
        {
          "output_type": "display_data",
          "data": {
            "image/png": "[encoded data removed]",
            "text/plain": [
              "<matplotlib.figure.Figure at 0x7f9480017ba8>"
            ]
          },
          "metadata": {
            "tags": []
          }
        }
      ]
    },
    {
      "metadata": {
        "id": "abttjcNB-xM5",
        "colab_type": "code",
        "colab": {
          "autoexec": {
            "startup": false,
            "wait_interval": 0
          }
        }
      },
      "cell_type": "code",
      "source": [
        "class start:\n",
        "\n",
        "    def __init__(self, x, y, theta):\n",
        "        self.x = x\n",
        "        self.y = y\n",
        "        self.theta = theta\n",
        "        \n",
        "class goal:\n",
        "\n",
        "    def __init__(self, x, y):\n",
        "        self.x = x\n",
        "        self.y = y"
      ],
      "execution_count": 0,
      "outputs": []
    }
  ]
}